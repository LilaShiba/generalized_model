{
 "cells": [
  {
   "cell_type": "code",
   "execution_count": null,
   "id": "93b82914",
   "metadata": {},
   "outputs": [],
   "source": [
    "import stats\n",
    "import pandas as pd\n",
    "import numpy as np\n",
    "import matplotlib.pyplot as plt\n",
    "df = pd.read_csv('/Users/kjams/Desktop/generalized_model/data/nyc.csv')"
   ]
  },
  {
   "cell_type": "code",
   "execution_count": null,
   "id": "433f3e6e",
   "metadata": {},
   "outputs": [],
   "source": [
    "jedi = stats.formulas(df)\n",
    "jedi.set_x_y('Poverty','ChildPoverty')\n",
    "jedi.pdf_linearBinning('Poverty')\n",
    "jedi.pdf_log_binning('Poverty')\n",
    "jedi.ctl('Poverty',1000)\n",
    "jedi.get_corr('Poverty','Income')\n",
    "print(df['Poverty'].corr(df['Income']))"
   ]
  },
  {
   "cell_type": "code",
   "execution_count": null,
   "id": "c8b0cdd4",
   "metadata": {},
   "outputs": [],
   "source": [
    "jedi.init_knn(5, ['Black', 'White'])"
   ]
  },
  {
   "cell_type": "code",
   "execution_count": null,
   "id": "af34e3a7",
   "metadata": {},
   "outputs": [],
   "source": [
    "random_node = jedi.nodeList[np.random.randint(0, jedi.n)]\n",
    "random_node.idx\n"
   ]
  },
  {
   "cell_type": "code",
   "execution_count": null,
   "id": "5f3c944e",
   "metadata": {},
   "outputs": [],
   "source": [
    "graph = jedi.create_graph()\n",
    "print('len:',len(graph))\n",
    "print('each dot as obj:', graph[(random_node.x,random_node.y)])"
   ]
  },
  {
   "cell_type": "code",
   "execution_count": null,
   "id": "2a23a74f",
   "metadata": {},
   "outputs": [],
   "source": [
    "normGraph = jedi.scatterGraphNorm\n",
    "norm_x, norm_y = normGraph[0], normGraph[1]\n",
    "jedi.pdf_log_binning([jedi.x, jedi.y])\n"
   ]
  },
  {
   "cell_type": "code",
   "execution_count": null,
   "id": "581167ab",
   "metadata": {},
   "outputs": [],
   "source": [
    "import collections\n",
    "collections.Counter(norm_x)"
   ]
  },
  {
   "cell_type": "code",
   "execution_count": null,
   "id": "53144256",
   "metadata": {},
   "outputs": [],
   "source": [
    "#testNode = stats.node(24,29,0,df,['TestNode'])\n",
    "val1 = jedi.nodeList[0]\n",
    "print(val1.x, val1.y)\n",
    "jedi.predict([val1])\n"
   ]
  },
  {
   "cell_type": "code",
   "execution_count": null,
   "id": "10e67146",
   "metadata": {},
   "outputs": [],
   "source": [
    "jedi.dist(val1,val1)"
   ]
  },
  {
   "cell_type": "code",
   "execution_count": null,
   "id": "f3ea1a19",
   "metadata": {},
   "outputs": [],
   "source": [
    "#jedi.df['County'] = jedi.vector_to_ints('County')\n",
    "jedi.df.head(5)"
   ]
  },
  {
   "cell_type": "code",
   "execution_count": null,
   "id": "03ce9a69",
   "metadata": {},
   "outputs": [],
   "source": [
    "testNode = stats.node(24,29,0,df,['TestNode'],4)\n",
    "jedi.init_knn(5,['White','Black'])\n",
    "jedi.insert_knn(testNode)\n",
    "res = jedi.predict([testNode])\n",
    "for item in res:\n",
    "   \n",
    "    _,x_y = item\n",
    "    edge = jedi.adjList[x_y]\n",
    "    print(edge.x, edge.y, edge.label)\n",
    "    print('')\n",
    "    \n"
   ]
  },
  {
   "cell_type": "code",
   "execution_count": null,
   "id": "742a1238",
   "metadata": {},
   "outputs": [],
   "source": [
    "x,y = jedi.create_corr_vectors(100,.8)\n",
    "jedi.linear_regression(x,y,2)\n",
    "np.corrcoef(x,y)"
   ]
  },
  {
   "cell_type": "code",
   "execution_count": null,
   "id": "cb1d4576",
   "metadata": {},
   "outputs": [],
   "source": [
    "x,y = jedi.create_corr_vectors(1000,0.46)\n",
    "jedi.linear_regression(x,y,2)\n",
    "np.corrcoef(x,y)\n"
   ]
  },
  {
   "cell_type": "code",
   "execution_count": null,
   "id": "1f286cb6",
   "metadata": {},
   "outputs": [],
   "source": [
    "x,y = jedi.create_corr_vectors(1000,0.046)\n",
    "jedi.linear_regression(x,y,2)\n",
    "np.corrcoef(x,y)"
   ]
  },
  {
   "cell_type": "code",
   "execution_count": null,
   "id": "b5bbab5e",
   "metadata": {},
   "outputs": [],
   "source": [
    "x = jedi.df['Black'].tolist()\n",
    "y = jedi.df['Unemployment'].tolist()\n",
    "\n",
    "\n",
    "jedi.linear_regression(x,y,50)\n"
   ]
  }
 ],
 "metadata": {
  "kernelspec": {
   "display_name": "Python 3 (ipykernel)",
   "language": "python",
   "name": "python3"
  },
  "language_info": {
   "codemirror_mode": {
    "name": "ipython",
    "version": 3
   },
   "file_extension": ".py",
   "mimetype": "text/x-python",
   "name": "python",
   "nbconvert_exporter": "python",
   "pygments_lexer": "ipython3",
   "version": "3.9.13"
  },
  "vscode": {
   "interpreter": {
    "hash": "7b885bf9a26928bf87d9551a558cbe4748c68b3f7e75a20270f58d8254b9bbf9"
   }
  }
 },
 "nbformat": 4,
 "nbformat_minor": 5
}

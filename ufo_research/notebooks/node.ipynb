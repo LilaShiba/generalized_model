{
 "cells": [
  {
   "cell_type": "code",
   "execution_count": null,
   "id": "d5f28995",
   "metadata": {},
   "outputs": [],
   "source": [
    "import node\n",
    "import pandas as pd\n",
    "import numpy as np\n",
    "import collections\n",
    "import seaborn as sns\n",
    "import matplotlib.pyplot as plt"
   ]
  },
  {
   "cell_type": "code",
   "execution_count": null,
   "id": "e9dd871a",
   "metadata": {},
   "outputs": [],
   "source": [
    "df = pd.read_csv('../data/nuforc_reports.csv')\n",
    "#df.head(5)"
   ]
  },
  {
   "cell_type": "code",
   "execution_count": null,
   "id": "499a2adb",
   "metadata": {},
   "outputs": [],
   "source": [
    "shapes = node.vect('shape')\n",
    "shapes.set_up(list(df['shape']),True)"
   ]
  },
  {
   "cell_type": "code",
   "execution_count": null,
   "id": "244a54eb",
   "metadata": {},
   "outputs": [],
   "source": [
    "shapes.basic_stats()"
   ]
  },
  {
   "cell_type": "code",
   "execution_count": null,
   "id": "fcb4d953",
   "metadata": {},
   "outputs": [],
   "source": [
    "time_seen = node.vect('time_seen')\n",
    "time_seen.set_up(list(df['duration']),False,True)\n"
   ]
  },
  {
   "cell_type": "code",
   "execution_count": null,
   "id": "146c4754",
   "metadata": {},
   "outputs": [],
   "source": [
    "time_seen.basic_stats()"
   ]
  },
  {
   "cell_type": "code",
   "execution_count": null,
   "id": "75184021",
   "metadata": {},
   "outputs": [],
   "source": [
    "talky = list(df['text'])\n",
    "talky[5]"
   ]
  },
  {
   "cell_type": "code",
   "execution_count": null,
   "id": "06d5ffaa",
   "metadata": {},
   "outputs": [],
   "source": [
    "df['shape'].unique()"
   ]
  },
  {
   "cell_type": "code",
   "execution_count": null,
   "id": "d5bba8ff",
   "metadata": {},
   "outputs": [],
   "source": [
    "shapes_dict = collections.Counter(df['shape'])\n",
    "n = np.sum(list(shapes_dict.values()))\n",
    "p_v = [x/n for x in shapes_dict.values()]\n",
    "print(np.sum(p_v))"
   ]
  },
  {
   "cell_type": "code",
   "execution_count": null,
   "id": "49422762",
   "metadata": {},
   "outputs": [],
   "source": [
    "p = node.point(shapes.vector, time_seen.vector,'shape_duration') "
   ]
  },
  {
   "cell_type": "code",
   "execution_count": null,
   "id": "d386dad3",
   "metadata": {},
   "outputs": [],
   "source": [
    "# TODO: REMOVE extreme outliers\n",
    "p.linear_regression()"
   ]
  },
  {
   "cell_type": "code",
   "execution_count": null,
   "id": "46b99c02",
   "metadata": {},
   "outputs": [],
   "source": [
    "def create_corr_vectors(n,corr):\n",
    "        # Generate the first random vector from a normal distribution\n",
    "    x = np.random.normal(loc=0, scale=1, size=n)\n",
    "        # Generate the second random vector from a normal distribution\n",
    "    y = np.random.normal(loc=0, scale=1, size=n)\n",
    "        # Create a third vector with the desired correlation\n",
    "    z = (y + corr) * np.std(x) * (x - np.mean(x))\n",
    "    np.corrcoef(x,z)\n",
    "    return x,z\n",
    "x,y = create_corr_vectors(100,.9)\n",
    "x = [abs(round(i,4)+1) for i in x]\n",
    "y = [abs(round(i,4)+1) for i in y]\n",
    "\n",
    "testNode = node.node(x[0],y[0],0,'test')\n",
    "p = node.point(x, y,'shape_duration') "
   ]
  },
  {
   "cell_type": "code",
   "execution_count": null,
   "id": "f5741297",
   "metadata": {},
   "outputs": [],
   "source": [
    "p.knn_predict(testNode, knnSize=5)"
   ]
  }
 ],
 "metadata": {
  "kernelspec": {
   "display_name": "Python 3 (ipykernel)",
   "language": "python",
   "name": "python3"
  },
  "language_info": {
   "codemirror_mode": {
    "name": "ipython",
    "version": 3
   },
   "file_extension": ".py",
   "mimetype": "text/x-python",
   "name": "python",
   "nbconvert_exporter": "python",
   "pygments_lexer": "ipython3",
   "version": "3.9.16"
  },
  "vscode": {
   "interpreter": {
    "hash": "54dd3c34f7c174f2089cd016162b0ae096040e96e95e7d142fff861616a33931"
   }
  }
 },
 "nbformat": 4,
 "nbformat_minor": 5
}
